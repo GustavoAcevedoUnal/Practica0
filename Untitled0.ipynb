{
  "nbformat": 4,
  "nbformat_minor": 0,
  "metadata": {
    "colab": {
      "name": "Untitled0.ipynb",
      "provenance": [],
      "include_colab_link": true
    },
    "kernelspec": {
      "name": "python3",
      "display_name": "Python 3"
    }
  },
  "cells": [
    {
      "cell_type": "markdown",
      "metadata": {
        "id": "view-in-github",
        "colab_type": "text"
      },
      "source": [
        "<a href=\"https://colab.research.google.com/github/GustavoAcevedoUnal/Practica0/blob/master/Untitled0.ipynb\" target=\"_parent\"><img src=\"https://colab.research.google.com/assets/colab-badge.svg\" alt=\"Open In Colab\"/></a>"
      ]
    },
    {
      "cell_type": "code",
      "metadata": {
        "id": "BCpqjIiA3rt-",
        "colab_type": "code",
        "colab": {}
      },
      "source": [
        "#este es un comentario\n",
        "#!ls /\n",
        "#!ls ~\n",
        "#!touch ./demo_clase/demo.txt\n",
        "#!mkdir demo_clase && ls -l\n",
        "#!cd demo_clase\n",
        "!cd /content/demo_clase\n",
        "#!pwd"
      ],
      "execution_count": 0,
      "outputs": []
    }
  ]
}