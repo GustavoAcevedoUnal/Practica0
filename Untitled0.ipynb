{
  "nbformat": 4,
  "nbformat_minor": 0,
  "metadata": {
    "colab": {
      "name": "Untitled0.ipynb",
      "provenance": [],
      "toc_visible": true,
      "include_colab_link": true
    },
    "kernelspec": {
      "name": "python3",
      "display_name": "Python 3"
    }
  },
  "cells": [
    {
      "cell_type": "markdown",
      "metadata": {
        "id": "view-in-github",
        "colab_type": "text"
      },
      "source": [
        "<a href=\"https://colab.research.google.com/github/GustavoAcevedoUnal/Practica0/blob/master/Untitled0.ipynb\" target=\"_parent\"><img src=\"https://colab.research.google.com/assets/colab-badge.svg\" alt=\"Open In Colab\"/></a>"
      ]
    },
    {
      "cell_type": "code",
      "metadata": {
        "id": "BCpqjIiA3rt-",
        "colab_type": "code",
        "colab": {
          "base_uri": "https://localhost:8080/",
          "height": 34
        },
        "outputId": "d110bd1b-9e1e-440e-bcd0-15fe159813c5"
      },
      "source": [
        "#este es un comentario\n",
        "#!rmdir demo_clase\n",
        "#!cd demo_clase && pwd\n",
        "#!rm -rf /content/demo_clase\n",
        "#!mkdir practica-bash-1\n",
        "#!mkdir practica-bash-1/1\n",
        "#!mkdir practica-bash-1/2\n",
        "#!mkdir practica-bash-1/3\n",
        "#!mkdir practica-bash-1/1/1-1\n",
        "#!mkdir practica-bash-1/1/1-2\n",
        "#!mkdir practica-bash-1/1/1-3\n",
        "#!mkdir practica-bash-1/2/2-1\n",
        "#!mkdir practica-bash-1/2/2-2\n",
        "#!mkdir practica-bash-1/2/2-3\n",
        "#!mkdir practica-bash-1/3/3-1\n",
        "#!mkdir practica-bash-1/3/3-2\n",
        "#!mkdir practica-bash-1/3/3-3\n",
        "!tree practica-bash-1"
      ],
      "execution_count": 50,
      "outputs": [
        {
          "output_type": "stream",
          "text": [
            "/bin/bash: tree: command not found\n"
          ],
          "name": "stdout"
        }
      ]
    }
  ]
}