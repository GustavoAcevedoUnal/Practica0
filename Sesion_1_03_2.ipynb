{
  "nbformat": 4,
  "nbformat_minor": 0,
  "metadata": {
    "colab": {
      "name": "Sesion 1-03-2.ipynb",
      "provenance": [],
      "include_colab_link": true
    },
    "kernelspec": {
      "name": "python3",
      "display_name": "Python 3"
    }
  },
  "cells": [
    {
      "cell_type": "markdown",
      "metadata": {
        "id": "view-in-github",
        "colab_type": "text"
      },
      "source": [
        "<a href=\"https://colab.research.google.com/github/GustavoAcevedoUnal/Practica0/blob/master/Sesion_1_03_2.ipynb\" target=\"_parent\"><img src=\"https://colab.research.google.com/assets/colab-badge.svg\" alt=\"Open In Colab\"/></a>"
      ]
    },
    {
      "cell_type": "code",
      "metadata": {
        "id": "Yt4IRWvHQ0hJ",
        "colab_type": "code",
        "colab": {
          "base_uri": "https://localhost:8080/",
          "height": 221
        },
        "outputId": "998667a9-64d4-41ed-df53-0754395fb7f7"
      },
      "source": [
        "%%bash\n",
        "\n",
        "#seq 30 > out.1 # se imprimen los primeros 30 números a un archivo\n",
        "#sed -n '3p' out.1 # imprime la línea 3\n",
        "#sed -n '3,6p' out.1 # imprime las líneas 3 a 6\n",
        "#sed -n '3,6p; 11,13p' out.1 # imprime las líneas 3 a 6 y 11 a 13\n",
        "#sed -n '25,$ p' out.1 # de la linea 25 al final\n",
        "sed -n '/1/p'  out.1 # Imprime las lineas que contengan un 1\n",
        "\n"
      ],
      "execution_count": 9,
      "outputs": [
        {
          "output_type": "stream",
          "text": [
            "1\n",
            "10\n",
            "11\n",
            "12\n",
            "13\n",
            "14\n",
            "15\n",
            "16\n",
            "17\n",
            "18\n",
            "19\n",
            "21\n"
          ],
          "name": "stdout"
        }
      ]
    }
  ]
}