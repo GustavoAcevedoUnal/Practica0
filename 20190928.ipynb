{
  "nbformat": 4,
  "nbformat_minor": 0,
  "metadata": {
    "colab": {
      "name": "20190928.ipynb",
      "provenance": [],
      "include_colab_link": true
    },
    "kernelspec": {
      "name": "python3",
      "display_name": "Python 3"
    }
  },
  "cells": [
    {
      "cell_type": "markdown",
      "metadata": {
        "id": "view-in-github",
        "colab_type": "text"
      },
      "source": [
        "<a href=\"https://colab.research.google.com/github/GustavoAcevedoUnal/Practica0/blob/master/20190928.ipynb\" target=\"_parent\"><img src=\"https://colab.research.google.com/assets/colab-badge.svg\" alt=\"Open In Colab\"/></a>"
      ]
    },
    {
      "cell_type": "code",
      "metadata": {
        "id": "Ic6mjKid0vCs",
        "colab_type": "code",
        "colab": {
          "base_uri": "https://localhost:8080/",
          "height": 129
        },
        "outputId": "0cf7069a-e994-4f1c-e53a-760b9186fa01"
      },
      "source": [
        "f = open('out.1', 'w')\n",
        "print(\"linea 1\", \"linea 2\", \"linea 3\", sep='\\n', file=f)\n",
        "print(\"linea 4\", file=f)\n",
        "print(\"linea x\", \"2222\", end=\"--->\\n\", sep=\"<sep>\", file=f)\n",
        "f.write(\"linea 5\")\n",
        "f.write(\"linea 6\")\n",
        "f.write('linea 7')\n",
        "f.close()\n",
        "!cat out.1\n",
        "\n",
        "f = open(\"out.1\",\"r\")\n",
        "for line in f:\n",
        "  print(line,end=\"\")\n",
        "f.close()\n",
        "\n",
        "***************************************************************************\n",
        "\n",
        "df = [[\"index\", \"name\", \"value\"],\n",
        "      [1, \"A\", 3.03],\n",
        "      [2, \"B\", 5.14],\n",
        "      [3, \"C\", 0.40],\n",
        "      [4, \"D\", 1.13],\n",
        "      [5, \"E\", 8.25]]\n",
        "\n",
        "import csv\n",
        "\n",
        "with open('files/data.txt', 'w') as f:             # abre el archivo para escritura\n",
        "    x = csv.writer(f,                              # crea el objeto x\n",
        "                   delimiter=',',                  # delimitado por ' '\n",
        "                   quoting=csv.QUOTE_NONNUMERIC)   # sin \" \" para los strings\n",
        "    for r in df:\n",
        "        x.writerow(r)\n",
        "        \n",
        "!cat files/data.txt\n",
        "\n",
        "\n",
        "\n"
      ],
      "execution_count": 28,
      "outputs": [
        {
          "output_type": "error",
          "ename": "SyntaxError",
          "evalue": "ignored",
          "traceback": [
            "\u001b[0;36m  File \u001b[0;32m\"<ipython-input-28-dc24b9af2b0a>\"\u001b[0;36m, line \u001b[0;32m3\u001b[0m\n\u001b[0;31m    %%writefile wordcount/text0.txt\u001b[0m\n\u001b[0m    ^\u001b[0m\n\u001b[0;31mSyntaxError\u001b[0m\u001b[0;31m:\u001b[0m invalid syntax\n"
          ]
        }
      ]
    }
  ]
}