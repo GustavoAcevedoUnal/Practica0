{
  "nbformat": 4,
  "nbformat_minor": 0,
  "metadata": {
    "colab": {
      "name": "Sesion1-03.ipynb",
      "provenance": [],
      "include_colab_link": true
    },
    "kernelspec": {
      "name": "python3",
      "display_name": "Python 3"
    }
  },
  "cells": [
    {
      "cell_type": "markdown",
      "metadata": {
        "id": "view-in-github",
        "colab_type": "text"
      },
      "source": [
        "<a href=\"https://colab.research.google.com/github/GustavoAcevedoUnal/Practica0/blob/master/Sesion1_03.ipynb\" target=\"_parent\"><img src=\"https://colab.research.google.com/assets/colab-badge.svg\" alt=\"Open In Colab\"/></a>"
      ]
    },
    {
      "cell_type": "code",
      "metadata": {
        "id": "pXShwU8apHgX",
        "colab_type": "code",
        "colab": {
          "base_uri": "https://localhost:8080/",
          "height": 34
        },
        "outputId": "3b323327-edb8-4306-f2a7-765345ab8e31"
      },
      "source": [
        "#!echo hola mundo cruel\n",
        "#!echo \"hola           mundo\"\n",
        "#!echo -e \"linea 1\\nlinea 2\\nlinea 3\"\n",
        "#!printf '%f ---- %s' 1.23456789 'hola mundo'\n",
        "#!printf '%15s --- %8.2f'  hola   1.23456789\n",
        "#!seq 5\n",
        "#!seq -f\"linea %g\" 5\n",
        "#!seq -s, 3 1 10\n",
        "#!seq -w 0 .05 .1\n",
        "\n",
        "#!echo hola mundo feliz > out.1\n",
        "#cat out.1 # imprime el contenido de out.1\n",
        "\n",
        "#!echo \"otra vez hola mundo feliz\" >> out.1 # agrega la nueva impresión al final de out.1\n",
        "#!cat out.1\n",
        "\n",
        "#!echo CustomerID, Customer > out.1\n",
        "#!echo    1, Customer A >> out.1\n",
        "#!echo    2, Customer B >> out.1\n",
        "\n",
        "#!seq -f\"linea %g\" 1 1 3 > out.1\n",
        "#!seq -f\"linea %g\" 4 1 6 > out.2\n",
        "#!seq -f\"linea %g\" 7 1 9 > out.3\n",
        "#!cat out.1 out.2 out.3\n",
        "#!cat out.*\n",
        "\n",
        "\n",
        "#!seq -f\"linea %g\" 100 > out.1 # se generan 100 líneas\n",
        "#!head -n 3 out.1 #muestra las 3 primeras lineas\n",
        "#!tail -n 3 out.1 #muestra las 3 ultimas lineas\n",
        "\n",
        "#!seq -f'linea %g' 10 > out.1\n",
        "#!tail +5 out.1 #imprime de la linea 5 hasta el final\n",
        "\n",
        "#!seq -f'linea %g' 3 > out.1\n",
        "#!cat out.1 out.1 out.1 | sort #ordena los componentes\n",
        "\n",
        "#!seq -f'linea %g' 3 > out.1 # genera el primer archivo de datos\n",
        "#!seq -f'linea %g' 3 > out.2 # genera el segundo archivo de datos\n",
        "#!cat out.1 out.2 out.1 out.2\n",
        "#!cat out.1 out.2 out.1 out.2 |  sort |  uniq\n",
        "\n",
        "#!wc -l out.1 out.2 # número de líneas\n",
        "#!wc -m out.1 out.2 # número de caracteres\n",
        "#!wc -w out.1 out.2 # número de palabras\n",
        "#!wc out.1 out.2 #el total de lineas, caracteres y palabras\n",
        "\n",
        "#!seq 20 | grep 1\n",
        "#!seq -f'linea %g' 20 > out.1\n",
        "#!grep 1 out.1 #busca por el caracter solicitado\n",
        "\n",
        "#!seq 100 | grep 1$  # imprime los números del 1 al 100 que finalizan con 1.\n",
        "#!seq 100 | grep ^1  # imprime los números del 1 al 100 que empiezan con 1.\n",
        "#!seq 20 | grep 1 | wc -l #muestra secuencia de 20, busca por el 1 y dice cuantas lineas tiene\n",
        "\n",
        "\n",
        "#!echo 'h-o-l-a- -m-u-n-d-o' > out.1\n",
        "#!tr -d '-'  < out.1 # borra los caracteres '-'.\n",
        "\n",
        "#!echo 'h-o-l-a- -m-u-n-d-o' > out.1\n",
        "#!tr '-'  '=' < out.1  # cambia '-' por '='.\n",
        "\n",
        "#!echo 'h-o-l-a- -m-u-n-d-o' > out.1\n",
        "#!tr '[:lower:]'  '[:upper:]' < out.1  # minúsculas a mayúsculas.\n",
        "\n",
        "#!echo Date, Year, CustomerID, Value > out.1\n",
        "#!echo 2013-01-12, 2013, 1, 100 >> out.1\n",
        "#!echo 2014-05-12, 2014, 1, 100 >> out.1\n",
        "#!echo 2013-02-25, 2013, 2, 200 >> out.1\n",
        "#!echo 2013-04-04, 2013, 1, 100 >> out.1\n",
        "#!echo 2013-06-21, 2013, 2, 200 >> out.1\n",
        "#!echo 2014-05-12, 2014, 1, 100 >> out.1\n",
        "#!echo 2014-05-12, 2014, 2, 200 >> out.1\n",
        "#!echo 2013-02-28, 2013, 1, 100 >> out.1\n",
        "#!echo 2013-08-02, 2013, 1, 100 >> out.1\n",
        "\n",
        "!head -n 1 out.1 | tr '[:lower:]' '[:upper:]'\n",
        "\n"
      ],
      "execution_count": 105,
      "outputs": [
        {
          "output_type": "stream",
          "text": [
            "DATE, YEAR, CUSTOMERID, VALUE\n"
          ],
          "name": "stdout"
        }
      ]
    }
  ]
}