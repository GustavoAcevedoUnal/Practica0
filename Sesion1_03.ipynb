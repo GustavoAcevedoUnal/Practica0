{
  "nbformat": 4,
  "nbformat_minor": 0,
  "metadata": {
    "colab": {
      "name": "Sesion1-03.ipynb",
      "provenance": [],
      "include_colab_link": true
    },
    "kernelspec": {
      "name": "python3",
      "display_name": "Python 3"
    }
  },
  "cells": [
    {
      "cell_type": "markdown",
      "metadata": {
        "id": "view-in-github",
        "colab_type": "text"
      },
      "source": [
        "<a href=\"https://colab.research.google.com/github/GustavoAcevedoUnal/Practica0/blob/master/Sesion1_03.ipynb\" target=\"_parent\"><img src=\"https://colab.research.google.com/assets/colab-badge.svg\" alt=\"Open In Colab\"/></a>"
      ]
    },
    {
      "cell_type": "code",
      "metadata": {
        "id": "pXShwU8apHgX",
        "colab_type": "code",
        "colab": {
          "base_uri": "https://localhost:8080/",
          "height": 51
        },
        "outputId": "912c318f-d2da-42ba-9831-76ea81267401"
      },
      "source": [
        "#!echo hola mundo cruel\n",
        "#!echo \"hola           mundo\"\n",
        "#!echo -e \"linea 1\\nlinea 2\\nlinea 3\"\n",
        "#!printf '%f ---- %s' 1.23456789 'hola mundo'\n",
        "#!printf '%15s --- %8.2f'  hola   1.23456789\n",
        "#!seq 5\n",
        "#!seq -f\"linea %g\" 5\n",
        "#!seq -s, 3 1 10\n",
        "#!seq -w 0 .05 .1\n",
        "\n",
        "#!echo hola mundo feliz > out.1\n",
        "#cat out.1 # imprime el contenido de out.1\n",
        "\n",
        "#!echo \"otra vez hola mundo feliz\" >> out.1 # agrega la nueva impresión al final de out.1\n",
        "#!cat out.1\n",
        "\n"
      ],
      "execution_count": 38,
      "outputs": [
        {
          "output_type": "stream",
          "text": [
            "hola mundo feliz\n",
            "otra vez hola mundo feliz\n"
          ],
          "name": "stdout"
        }
      ]
    }
  ]
}