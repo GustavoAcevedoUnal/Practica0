{
  "nbformat": 4,
  "nbformat_minor": 0,
  "metadata": {
    "colab": {
      "name": "Practica0.ipynb",
      "provenance": [],
      "include_colab_link": true
    },
    "kernelspec": {
      "name": "python3",
      "display_name": "Python 3"
    }
  },
  "cells": [
    {
      "cell_type": "markdown",
      "metadata": {
        "id": "view-in-github",
        "colab_type": "text"
      },
      "source": [
        "<a href=\"https://colab.research.google.com/github/GustavoAcevedoUnal/Practica0/blob/master/Practica0.ipynb\" target=\"_parent\"><img src=\"https://colab.research.google.com/assets/colab-badge.svg\" alt=\"Open In Colab\"/></a>"
      ]
    },
    {
      "cell_type": "code",
      "metadata": {
        "id": "YatgE1xk0jFj",
        "colab_type": "code",
        "colab": {
          "base_uri": "https://localhost:8080/",
          "height": 34
        },
        "outputId": "7ccb5705-1555-4105-863c-884d1f2c6194"
      },
      "source": [
        "#!pwd\n",
        "#ls\n",
        "#mkdir data\n",
        "#cp out.1 out.2\n",
        "#mv out.2 outline.2\n",
        "ls"
      ],
      "execution_count": 21,
      "outputs": [
        {
          "output_type": "stream",
          "text": [
            "out.1  outline.2\n"
          ],
          "name": "stdout"
        }
      ]
    }
  ]
}