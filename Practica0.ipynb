{
  "nbformat": 4,
  "nbformat_minor": 0,
  "metadata": {
    "colab": {
      "name": "Practica0.ipynb",
      "provenance": [],
      "include_colab_link": true
    },
    "kernelspec": {
      "name": "python3",
      "display_name": "Python 3"
    }
  },
  "cells": [
    {
      "cell_type": "markdown",
      "metadata": {
        "id": "view-in-github",
        "colab_type": "text"
      },
      "source": [
        "<a href=\"https://colab.research.google.com/github/GustavoAcevedoUnal/Practica0/blob/master/Practica0.ipynb\" target=\"_parent\"><img src=\"https://colab.research.google.com/assets/colab-badge.svg\" alt=\"Open In Colab\"/></a>"
      ]
    },
    {
      "cell_type": "code",
      "metadata": {
        "id": "YatgE1xk0jFj",
        "colab_type": "code",
        "colab": {}
      },
      "source": [
        "#!pwd\n",
        "#ls\n",
        "#mkdir data\n",
        "#cp out.1 out.2\n",
        "#mv out.2 outline.2\n",
        "#rm outline.2\n",
        "#!apt-get install tree\n",
        "#!tree .\n",
        "#pwd\n",
        "#mkdir practica-bash-1\n",
        "#mkdir 1-1 1-2 1-3\n",
        "#mkdir 2-1 2-2 2-3\n",
        "#mkdir 3-1 3-2 3-3\n",
        "#!tree ..\n",
        "#!touch 1/1-1/_SUCCESS\n",
        "#!touch 1/1-1/part-0\n",
        "#cp part-0 part-2\n",
        "#mv part-0 part-00000\n",
        "#mv part-1 part-00001\n",
        "#mv part-2 part-00002\n",
        "#!tree\n",
        "#mv 1/1-1/_SUCCESS 1/1-1/part-0000 1/1-1/part-00001 1/1-1/part-00002 3/3-3\n"
      ],
      "execution_count": 0,
      "outputs": []
    }
  ]
}